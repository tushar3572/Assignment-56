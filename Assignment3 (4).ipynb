{
 "cells": [
  {
   "cell_type": "markdown",
   "id": "23cd091a-a300-4d02-a111-d3d9cfbfc2fd",
   "metadata": {},
   "source": [
    "Answer: 1"
   ]
  },
  {
   "cell_type": "code",
   "execution_count": null,
   "id": "a04a18f9-7c2f-4e29-85cf-8d2a33c9689f",
   "metadata": {},
   "outputs": [],
   "source": [
    "Flask is a lightweight and flexible web framework for Python that is designed for building web applications quickly and with minimal overhead. It is often referred to as a micro-framework because it provides the essential components needed for web development without imposing any dependencies or additional features that may not be required for all projects.\n",
    "\n",
    "### Key Features of Flask\n",
    "\n",
    "- **Lightweight**: Flask is minimalistic and does not include many built-in features, making it easy to learn and use.\n",
    "- **Flexible**: It allows developers to choose the tools and libraries they want to use, enabling a high degree of customization.\n",
    "- **Built-in Development Server**: Flask comes with a built-in development server for testing applications locally.\n",
    "- **RESTful Request Dispatching**: Flask makes it easy to create RESTful APIs and services.\n",
    "- **Jinja2 Templating**: It uses the Jinja2 templating engine, which allows for dynamic HTML generation and easy template management.\n",
    "- **Support for Extensions**: Flask supports a wide range of extensions that can add functionality, such as database integration, authentication, and form validation.\n",
    "\n",
    "### Advantages of Flask Framework\n",
    "\n",
    "1. **Simplicity and Ease of Use**: Flask has a simple and intuitive API, making it easy for beginners to get started with web development. Its minimalistic nature allows developers to focus on writing code without dealing with unnecessary complexity.\n",
    "\n",
    "2. **Flexibility**: Flask does not enforce a specific project structure or components, allowing developers to choose how they want to organize their applications and which libraries to integrate. This flexibility is especially beneficial for small to medium-sized applications.\n",
    "\n",
    "3. **Extensibility**: Flask supports numerous extensions that can be easily integrated into the application. This means developers can add functionality as needed without having to build everything from scratch.\n",
    "\n",
    "4. **Lightweight**: As a micro-framework, Flask has a small footprint and does not include unnecessary features, making it fast and efficient. This makes it ideal for small applications, prototypes, and microservices.\n",
    "\n",
    "5. **Strong Community and Documentation**: Flask has a large and active community, which means that there are plenty of resources, tutorials, and third-party libraries available. The official documentation is comprehensive and easy to follow.\n",
    "\n",
    "6. **RESTful API Support**: Flask is particularly well-suited for building RESTful APIs, thanks to its support for routing and request handling.\n",
    "\n",
    "7. **Testing and Debugging**: Flask comes with a built-in development server and debugger, making it easy to test and debug applications during development.\n",
    "\n",
    "8. **Integration with Other Technologies**: Flask can easily integrate with other tools and technologies, such as databases (e.g., SQLAlchemy for ORM), front-end frameworks, and authentication services.\n",
    "\n",
    "### Conclusion\n",
    "\n",
    "Flask is a powerful and versatile web framework that allows developers to create web applications quickly and efficiently. Its simplicity, flexibility, and extensibility make it an excellent choice for projects of varying sizes, from simple prototypes to complex web applications."
   ]
  },
  {
   "cell_type": "markdown",
   "id": "7d4e687e-5f76-42eb-a606-14303214fb9c",
   "metadata": {},
   "source": [
    "Answer: 2"
   ]
  },
  {
   "cell_type": "code",
   "execution_count": 1,
   "id": "78fd2f14-d648-415c-8e23-d031759a710f",
   "metadata": {},
   "outputs": [
    {
     "name": "stdout",
     "output_type": "stream",
     "text": [
      "Collecting Flask\n",
      "  Downloading flask-3.0.3-py3-none-any.whl (101 kB)\n",
      "\u001b[2K     \u001b[90m━━━━━━━━━━━━━━━━━━━━━━━━━━━━━━━━━━━━━━━\u001b[0m \u001b[32m101.7/101.7 kB\u001b[0m \u001b[31m3.6 MB/s\u001b[0m eta \u001b[36m0:00:00\u001b[0m\n",
      "\u001b[?25hRequirement already satisfied: Jinja2>=3.1.2 in /opt/conda/lib/python3.10/site-packages (from Flask) (3.1.2)\n",
      "Collecting Werkzeug>=3.0.0\n",
      "  Downloading werkzeug-3.0.3-py3-none-any.whl (227 kB)\n",
      "\u001b[2K     \u001b[90m━━━━━━━━━━━━━━━━━━━━━━━━━━━━━━━━━━━━━━\u001b[0m \u001b[32m227.3/227.3 kB\u001b[0m \u001b[31m17.8 MB/s\u001b[0m eta \u001b[36m0:00:00\u001b[0m\n",
      "\u001b[?25hCollecting blinker>=1.6.2\n",
      "  Downloading blinker-1.8.2-py3-none-any.whl (9.5 kB)\n",
      "Collecting itsdangerous>=2.1.2\n",
      "  Downloading itsdangerous-2.2.0-py3-none-any.whl (16 kB)\n",
      "Requirement already satisfied: click>=8.1.3 in /opt/conda/lib/python3.10/site-packages (from Flask) (8.1.3)\n",
      "Requirement already satisfied: MarkupSafe>=2.0 in /opt/conda/lib/python3.10/site-packages (from Jinja2>=3.1.2->Flask) (2.1.1)\n",
      "Installing collected packages: Werkzeug, itsdangerous, blinker, Flask\n",
      "  Attempting uninstall: blinker\n",
      "    Found existing installation: blinker 1.5\n",
      "    Uninstalling blinker-1.5:\n",
      "      Successfully uninstalled blinker-1.5\n",
      "Successfully installed Flask-3.0.3 Werkzeug-3.0.3 blinker-1.8.2 itsdangerous-2.2.0\n"
     ]
    }
   ],
   "source": [
    "!pip install Flask\n"
   ]
  },
  {
   "cell_type": "code",
   "execution_count": 2,
   "id": "83cbd3b3-f2dc-4c1c-a8d0-e0a109da7197",
   "metadata": {
    "collapsed": true,
    "jupyter": {
     "outputs_hidden": true,
     "source_hidden": true
    },
    "tags": []
   },
   "outputs": [
    {
     "name": "stdout",
     "output_type": "stream",
     "text": [
      " * Serving Flask app '__main__'\n",
      " * Debug mode: on\n"
     ]
    },
    {
     "name": "stderr",
     "output_type": "stream",
     "text": [
      "WARNING: This is a development server. Do not use it in a production deployment. Use a production WSGI server instead.\n",
      " * Running on http://127.0.0.1:5000\n",
      "Press CTRL+C to quit\n",
      " * Restarting with stat\n",
      "Traceback (most recent call last):\n",
      "  File \"/opt/conda/lib/python3.10/runpy.py\", line 196, in _run_module_as_main\n",
      "    return _run_code(code, main_globals, None,\n",
      "  File \"/opt/conda/lib/python3.10/runpy.py\", line 86, in _run_code\n",
      "    exec(code, run_globals)\n",
      "  File \"/opt/conda/lib/python3.10/site-packages/ipykernel_launcher.py\", line 17, in <module>\n",
      "    app.launch_new_instance()\n",
      "  File \"/opt/conda/lib/python3.10/site-packages/traitlets/config/application.py\", line 991, in launch_instance\n",
      "    app.initialize(argv)\n",
      "  File \"/opt/conda/lib/python3.10/site-packages/traitlets/config/application.py\", line 113, in inner\n",
      "    return method(app, *args, **kwargs)\n",
      "  File \"/opt/conda/lib/python3.10/site-packages/ipykernel/kernelapp.py\", line 665, in initialize\n",
      "    self.init_sockets()\n",
      "  File \"/opt/conda/lib/python3.10/site-packages/ipykernel/kernelapp.py\", line 309, in init_sockets\n",
      "    self.shell_port = self._bind_socket(self.shell_socket, self.shell_port)\n",
      "  File \"/opt/conda/lib/python3.10/site-packages/ipykernel/kernelapp.py\", line 246, in _bind_socket\n",
      "    return self._try_bind_socket(s, port)\n",
      "  File \"/opt/conda/lib/python3.10/site-packages/ipykernel/kernelapp.py\", line 222, in _try_bind_socket\n",
      "    s.bind(\"tcp://%s:%i\" % (self.ip, port))\n",
      "  File \"/opt/conda/lib/python3.10/site-packages/zmq/sugar/socket.py\", line 232, in bind\n",
      "    super().bind(addr)\n",
      "  File \"zmq/backend/cython/socket.pyx\", line 568, in zmq.backend.cython.socket.Socket.bind\n",
      "  File \"zmq/backend/cython/checkrc.pxd\", line 28, in zmq.backend.cython.checkrc._check_rc\n",
      "zmq.error.ZMQError: Address already in use\n"
     ]
    },
    {
     "ename": "SystemExit",
     "evalue": "1",
     "output_type": "error",
     "traceback": [
      "An exception has occurred, use %tb to see the full traceback.\n",
      "\u001b[0;31mSystemExit\u001b[0m\u001b[0;31m:\u001b[0m 1\n"
     ]
    },
    {
     "name": "stderr",
     "output_type": "stream",
     "text": [
      "/opt/conda/lib/python3.10/site-packages/IPython/core/interactiveshell.py:3441: UserWarning: To exit: use 'exit', 'quit', or Ctrl-D.\n",
      "  warn(\"To exit: use 'exit', 'quit', or Ctrl-D.\", stacklevel=1)\n"
     ]
    }
   ],
   "source": [
    "from flask import Flask\n",
    "\n",
    "# Create a Flask application instance\n",
    "app = Flask(__name__)\n",
    "\n",
    "# Define a route for the home page\n",
    "@app.route('/')\n",
    "def hello():\n",
    "    return 'Hello World!!'\n",
    "\n",
    "# Run the application\n",
    "if __name__ == '__main__':\n",
    "    app.run(debug=True)\n"
   ]
  },
  {
   "cell_type": "code",
   "execution_count": null,
   "id": "b125552e-ecc6-4529-aae2-8a2853e35129",
   "metadata": {},
   "outputs": [],
   "source": [
    "from IPython.display import Image, display\n",
    "\n",
    "# Replace 'screenshot.png' with the path to your screenshot\n",
    "display(Image(filename='screenshot.png'))\n"
   ]
  },
  {
   "cell_type": "markdown",
   "id": "15d51c9d-b25e-4be8-b378-b604236300e4",
   "metadata": {},
   "source": [
    "Answer: 3"
   ]
  },
  {
   "cell_type": "code",
   "execution_count": null,
   "id": "7b73eeb0-8d04-44cc-a608-7471c6baf790",
   "metadata": {},
   "outputs": [],
   "source": [
    "App routing in Flask refers to the mechanism of defining URLs (or endpoints) for your web application and linking them to specific functions (view functions) that handle requests to those URLs. This is an essential feature of Flask and allows developers to create a structured way to manage the application's various pages and resources.\n",
    "\n",
    "### Key Concepts of App Routing\n",
    "\n",
    "1. **Routes**: A route is a URL pattern that is associated with a view function. When a user accesses a specific URL in the web application, Flask matches the URL against the defined routes and calls the corresponding view function.\n",
    "\n",
    "2. **View Functions**: These are Python functions that are associated with a route. When a request is made to the route, the view function is executed, and it typically returns a response (such as HTML, JSON, or other content).\n",
    "\n",
    "3. **HTTP Methods**: Flask routes can be configured to respond to different HTTP methods, such as GET, POST, PUT, and DELETE. By default, routes respond to GET requests, but you can specify other methods as needed.\n",
    "\n",
    "### Why Use App Routes?\n",
    "\n",
    "1. **Organized Structure**: Routing allows you to organize the structure of your web application. Each route corresponds to a specific functionality or page, making it easier to manage and maintain.\n",
    "\n",
    "2. **Clear URL Mapping**: App routing provides a clear mapping between URLs and the functions that handle them. This makes it easier to understand the flow of the application and how users will interact with it.\n",
    "\n",
    "3. **Separation of Concerns**: By defining routes, you can separate the logic for different parts of your application. Each view function can focus on a specific task, making your code more modular and easier to test.\n",
    "\n",
    "4. **Dynamic URL Handling**: Flask supports dynamic routes, which allow you to capture variable parts of the URL. This is useful for creating endpoints that can handle different data, such as user profiles or product details.\n",
    "\n",
    "5. **Customization and Flexibility**: Flask's routing system is highly customizable, allowing you to define complex routing patterns, apply route decorators, and integrate middleware.\n",
    "\n",
    "### Example of App Routing in Flask\n",
    "\n",
    "Here’s a simple example demonstrating app routing in Flask:\n",
    "\n",
    "```python\n",
    "from flask import Flask\n",
    "\n",
    "app = Flask(__name__)\n",
    "\n",
    "# Define a route for the home page\n",
    "@app.route('/')\n",
    "def home():\n",
    "    return 'Welcome to the Home Page!'\n",
    "\n",
    "# Define a route for a user profile\n",
    "@app.route('/user/<username>')\n",
    "def profile(username):\n",
    "    return f'Profile Page of {username}'\n",
    "\n",
    "# Define a route that responds to POST requests\n",
    "@app.route('/submit', methods=['POST'])\n",
    "def submit():\n",
    "    return 'Form submitted!'\n",
    "\n",
    "# Run the application\n",
    "if __name__ == '__main__':\n",
    "    app.run(debug=True)\n",
    "```\n",
    "\n",
    "### Explanation of the Example\n",
    "\n",
    "- **Home Route**: The `@app.route('/')` decorator defines a route for the home page. When a user accesses the root URL, the `home()` function is called, returning a welcome message.\n",
    "  \n",
    "- **Dynamic User Profile Route**: The `@app.route('/user/<username>')` decorator defines a dynamic route. The `<username>` part of the URL captures the username and passes it to the `profile()` function, allowing it to display a specific user's profile page.\n",
    "\n",
    "- **POST Route**: The `@app.route('/submit', methods=['POST'])` decorator specifies that the `submit()` function will handle POST requests to the `/submit` URL. This is useful for handling form submissions.\n",
    "\n",
    "### Conclusion\n",
    "\n",
    "App routing in Flask is a powerful feature that enables you to create structured and organized web applications. By defining routes, you can easily manage different parts of your application, handle dynamic data, and create a clear flow for user interactions. This modularity and flexibility make Flask a popular choice for web development in Python."
   ]
  },
  {
   "cell_type": "markdown",
   "id": "d03712ee-98ef-4f31-b6b7-3ab4832b552e",
   "metadata": {},
   "source": [
    "Answer: 4"
   ]
  },
  {
   "cell_type": "code",
   "execution_count": null,
   "id": "4bbe1ccd-b4c5-4d62-9013-81b12810d5e3",
   "metadata": {},
   "outputs": [],
   "source": [
    "from flask import Flask\n",
    "\n",
    "app = Flask(__name__)\n",
    "\n",
    "# Define a route for the welcome page\n",
    "@app.route('/welcome')\n",
    "def welcome():\n",
    "    return 'Welcome to ABC Corporation'\n",
    "\n",
    "# Define a route for the company details\n",
    "@app.route('/')\n",
    "def company_details():\n",
    "    return '''\n",
    "    <h1>Company Name: ABC Corporation</h1>\n",
    "    <p>Location: India</p>\n",
    "    <p>Contact Detail: 999-999-9999</p>\n",
    "    '''\n",
    "\n",
    "# Run the application\n",
    "if __name__ == '__main__':\n",
    "    app.run(debug=True)\n"
   ]
  },
  {
   "cell_type": "markdown",
   "id": "d46fbf71-627e-4eb4-8df0-02e8ca23ddaf",
   "metadata": {},
   "source": [
    "Answer: 5"
   ]
  },
  {
   "cell_type": "code",
   "execution_count": null,
   "id": "2bd3dd65-ca68-405d-ae46-3172a0fde371",
   "metadata": {},
   "outputs": [],
   "source": [
    "from flask import Flask\n",
    "\n",
    "app = Flask(__name__)\n",
    "\n",
    "# Define a route for the welcome page\n",
    "@app.route('/welcome')\n",
    "def welcome():\n",
    "    return 'Welcome to ABC Corporation'\n",
    "\n",
    "# Define a route for the company details\n",
    "@app.route('/')\n",
    "def company_details():\n",
    "    return '''\n",
    "    <h1>Company Name: ABC Corporation</h1>\n",
    "    <p>Location: India</p>\n",
    "    <p>Contact Detail: 999-999-9999</p>\n",
    "    '''\n",
    "\n",
    "# Run the application\n",
    "if __name__ == '__main__':\n",
    "    app.run(debug=True)\n"
   ]
  }
 ],
 "metadata": {
  "kernelspec": {
   "display_name": "Python 3 (ipykernel)",
   "language": "python",
   "name": "python3"
  },
  "language_info": {
   "codemirror_mode": {
    "name": "ipython",
    "version": 3
   },
   "file_extension": ".py",
   "mimetype": "text/x-python",
   "name": "python",
   "nbconvert_exporter": "python",
   "pygments_lexer": "ipython3",
   "version": "3.10.8"
  }
 },
 "nbformat": 4,
 "nbformat_minor": 5
}
